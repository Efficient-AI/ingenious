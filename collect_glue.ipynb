{
 "cells": [
  {
   "cell_type": "code",
   "execution_count": 1,
   "metadata": {},
   "outputs": [],
   "source": [
    "import pandas as pd"
   ]
  },
  {
   "cell_type": "code",
   "execution_count": 2,
   "metadata": {},
   "outputs": [
    {
     "data": {
      "text/html": [
       "<div>\n",
       "<style scoped>\n",
       "    .dataframe tbody tr th:only-of-type {\n",
       "        vertical-align: middle;\n",
       "    }\n",
       "\n",
       "    .dataframe tbody tr th {\n",
       "        vertical-align: top;\n",
       "    }\n",
       "\n",
       "    .dataframe thead th {\n",
       "        text-align: right;\n",
       "    }\n",
       "</style>\n",
       "<table border=\"1\" class=\"dataframe\">\n",
       "  <thead>\n",
       "    <tr style=\"text-align: right;\">\n",
       "      <th></th>\n",
       "      <th>cola</th>\n",
       "      <th>sst2</th>\n",
       "      <th>mrpc</th>\n",
       "      <th>stsb</th>\n",
       "      <th>qqp</th>\n",
       "      <th>mnli-m</th>\n",
       "      <th>mnli-mm</th>\n",
       "      <th>qnli</th>\n",
       "      <th>rte</th>\n",
       "      <th>average</th>\n",
       "    </tr>\n",
       "  </thead>\n",
       "  <tbody>\n",
       "    <tr>\n",
       "      <th>glue_run1</th>\n",
       "      <td>46.87</td>\n",
       "      <td>91.52</td>\n",
       "      <td>89.53</td>\n",
       "      <td>88.09</td>\n",
       "      <td>87.71</td>\n",
       "      <td>82.39</td>\n",
       "      <td>83.18</td>\n",
       "      <td>90.12</td>\n",
       "      <td>66.88</td>\n",
       "      <td>80.70</td>\n",
       "    </tr>\n",
       "    <tr>\n",
       "      <th>glue_run2</th>\n",
       "      <td>50.47</td>\n",
       "      <td>90.96</td>\n",
       "      <td>89.98</td>\n",
       "      <td>87.77</td>\n",
       "      <td>87.67</td>\n",
       "      <td>82.45</td>\n",
       "      <td>83.08</td>\n",
       "      <td>89.88</td>\n",
       "      <td>62.19</td>\n",
       "      <td>80.49</td>\n",
       "    </tr>\n",
       "    <tr>\n",
       "      <th>glue_run3</th>\n",
       "      <td>48.89</td>\n",
       "      <td>91.18</td>\n",
       "      <td>90.13</td>\n",
       "      <td>87.85</td>\n",
       "      <td>87.37</td>\n",
       "      <td>82.23</td>\n",
       "      <td>82.61</td>\n",
       "      <td>90.44</td>\n",
       "      <td>64.69</td>\n",
       "      <td>80.60</td>\n",
       "    </tr>\n",
       "    <tr>\n",
       "      <th>average</th>\n",
       "      <td>48.74</td>\n",
       "      <td>91.22</td>\n",
       "      <td>89.88</td>\n",
       "      <td>87.90</td>\n",
       "      <td>87.58</td>\n",
       "      <td>82.36</td>\n",
       "      <td>82.95</td>\n",
       "      <td>90.15</td>\n",
       "      <td>64.58</td>\n",
       "      <td>80.60</td>\n",
       "    </tr>\n",
       "  </tbody>\n",
       "</table>\n",
       "</div>"
      ],
      "text/plain": [
       "            cola   sst2   mrpc   stsb    qqp  mnli-m  mnli-mm   qnli    rte  \\\n",
       "glue_run1  46.87  91.52  89.53  88.09  87.71   82.39    83.18  90.12  66.88   \n",
       "glue_run2  50.47  90.96  89.98  87.77  87.67   82.45    83.08  89.88  62.19   \n",
       "glue_run3  48.89  91.18  90.13  87.85  87.37   82.23    82.61  90.44  64.69   \n",
       "average    48.74  91.22  89.88  87.90  87.58   82.36    82.95  90.15  64.58   \n",
       "\n",
       "           average  \n",
       "glue_run1    80.70  \n",
       "glue_run2    80.49  \n",
       "glue_run3    80.60  \n",
       "average      80.60  "
      ]
     },
     "execution_count": 2,
     "metadata": {},
     "output_type": "execute_result"
    }
   ],
   "source": [
    "folder=\"models/fl_bert_22_06_2022_12:04:58/\"\n",
    "tasks=[\"cola\", \"sst2\", \"mrpc\", \"stsb\", \"qqp\", \"mnli\", \"qnli\", \"rte\"]\n",
    "data=pd.DataFrame(columns=[\"cola\", \"sst2\", \"mrpc\", \"stsb\", \"qqp\", \"mnli-m\", \"mnli-mm\", \"qnli\", \"rte\"], index=['glue_run1', 'glue_run2', 'glue_run3'])\n",
    "for run in range(1,4):\n",
    "    l=[]\n",
    "    for task in tasks:\n",
    "        with open(folder+f\"glue_run{run}/\"+task+\".log\", \"r\") as f:\n",
    "            lines=f.readlines()\n",
    "            if task==\"mnli\":\n",
    "                l.append(100*float(lines[-2].split()[-1].rstrip().rstrip('}')))\n",
    "            l.append(100*float(lines[-1].split()[-1].rstrip().rstrip('}')))\n",
    "    data.loc[f\"glue_run{run}\"]=l\n",
    "data.loc[\"average\"]=data.mean(axis=0)\n",
    "data[\"average\"]=data.mean(axis=1)\n",
    "data=data.apply(lambda x: [round(f, 2) for f in x])\n",
    "data.to_csv(folder+\"glue_results.csv\")\n",
    "data"
   ]
  },
  {
   "cell_type": "code",
   "execution_count": null,
   "metadata": {},
   "outputs": [],
   "source": []
  }
 ],
 "metadata": {
  "interpreter": {
   "hash": "13ad8c38ecb90713c33d78b40c599973b0f7cdda47714d00efe1ed11a1ec8108"
  },
  "kernelspec": {
   "display_name": "Python 3.7.12 ('ingenious-env': venv)",
   "language": "python",
   "name": "python3"
  },
  "language_info": {
   "codemirror_mode": {
    "name": "ipython",
    "version": 3
   },
   "file_extension": ".py",
   "mimetype": "text/x-python",
   "name": "python",
   "nbconvert_exporter": "python",
   "pygments_lexer": "ipython3",
   "version": "3.7.12"
  },
  "orig_nbformat": 4
 },
 "nbformat": 4,
 "nbformat_minor": 2
}
