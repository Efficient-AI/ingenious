{
 "cells": [
  {
   "cell_type": "code",
   "execution_count": 1,
   "metadata": {},
   "outputs": [],
   "source": [
    "import pandas as pd\n",
    "import numpy as np\n",
    "import os\n",
    "import subprocess"
   ]
  },
  {
   "cell_type": "code",
   "execution_count": 2,
   "metadata": {},
   "outputs": [],
   "source": [
    "main_model_dir=\"/home/hrenduchinta/LM-pretraining/models/gpt2_random_fixed_13_01_2023_08.07.20\""
   ]
  },
  {
   "cell_type": "code",
   "execution_count": 3,
   "metadata": {},
   "outputs": [],
   "source": [
    "for step in range(50000, 550000, 50000):\n",
    "    model_path=f\"{main_model_dir}/step_{step}\"\n",
    "    try:\n",
    "        data=pd.DataFrame(columns=[\"cola\", \"mrpc\", \"rte\", \"stsb\", \"sst2\", \"mnli-m\", \"mnli-mm\", \"qnli\", \"qqp\"], index=[f\"glue_run_{i}\" for i in range(1, 21)])\n",
    "        for run in range(1, 21):\n",
    "            if run>5:\n",
    "                tasks=[\"cola\", \"mrpc\", \"rte\", \"stsb\"]\n",
    "            else:\n",
    "                tasks=[\"cola\", \"mrpc\", \"rte\", \"stsb\", \"sst2\", \"mnli\", \"qnli\", \"qqp\"]\n",
    "            l=[]\n",
    "            for task in tasks:\n",
    "                with open(f\"{model_path}/glue_run_{run}/{task}.log\", \"r\") as f:\n",
    "                    lines=f.readlines()\n",
    "                    if task==\"mnli\":\n",
    "                        l.append(100*float(lines[-2].split()[-1].rstrip().rstrip('}')))\n",
    "                    l.append(100*float(lines[-1].split()[-1].rstrip().rstrip('}')))\n",
    "            if run>5:\n",
    "                l.extend([np.nan]*5)\n",
    "            data.loc[f\"glue_run_{run}\"]=l\n",
    "        data.loc[\"average\"]=data.mean(axis=0, skipna=True)\n",
    "        data.loc[\"stddev\"]=data.std(axis=0, skipna=True)\n",
    "        data.loc[\"decrement_avg\"]=[np.nan for i in range(9)]\n",
    "        data.loc[\"maximum\"]=data.max(axis=0, skipna=True)\n",
    "        data.loc[\"decrement_max\"]=[np.nan for i in range(9)]\n",
    "        data.to_csv(f\"{model_path}/glue_results.csv\")\n",
    "    except Exception as e:\n",
    "        print(f\"step-{step},{run},{task}: {str(e)}\")"
   ]
  },
  {
   "cell_type": "code",
   "execution_count": 4,
   "metadata": {},
   "outputs": [],
   "source": [
    "for step in range(50000, 300000, 50000):\n",
    "    for run in range(1, 21):\n",
    "        if run>5:\n",
    "            tasks=[\"cola\", \"mrpc\", \"rte\", \"stsb\"]\n",
    "        else:\n",
    "            tasks=[\"cola\", \"mrpc\", \"rte\", \"stsb\", \"sst2\", \"mnli\", \"qnli\", \"qqp\"]\n",
    "        for task in tasks:\n",
    "            if not os.path.isfile(f\"{main_model_dir}/step_{step}/glue_run_{run}/{task}.log\"):\n",
    "                print(step, run, task)"
   ]
  },
  {
   "cell_type": "code",
   "execution_count": 5,
   "metadata": {},
   "outputs": [],
   "source": [
    "model_dir=main_model_dir\n",
    "os.makedirs(f\"{model_dir}/results\", exist_ok=True)\n",
    "for step in range(50000, 550000, 50000):\n",
    "    os.makedirs(f\"{model_dir}/results/step_{step}\", exist_ok=True)\n",
    "    subprocess.run(f\"cp {model_dir}/step_{step}/glue_results.csv {model_dir}/results/step_{step}/glue_results.csv\", shell=True)"
   ]
  },
  {
   "cell_type": "code",
   "execution_count": null,
   "metadata": {},
   "outputs": [],
   "source": []
  }
 ],
 "metadata": {
  "kernelspec": {
   "display_name": "Python 3",
   "language": "python",
   "name": "python3"
  },
  "language_info": {
   "codemirror_mode": {
    "name": "ipython",
    "version": 3
   },
   "file_extension": ".py",
   "mimetype": "text/x-python",
   "name": "python",
   "nbconvert_exporter": "python",
   "pygments_lexer": "ipython3",
   "version": "3.9.13 | packaged by conda-forge | (main, May 27 2022, 16:58:50) \n[GCC 10.3.0]"
  },
  "orig_nbformat": 4,
  "vscode": {
   "interpreter": {
    "hash": "330e453a0b5d4a31de1248b81498e4f7229811b6cdc584e51aea2376965a21af"
   }
  }
 },
 "nbformat": 4,
 "nbformat_minor": 2
}
