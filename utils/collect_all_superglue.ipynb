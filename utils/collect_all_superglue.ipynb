{
 "cells": [
  {
   "cell_type": "code",
   "execution_count": 1,
   "metadata": {},
   "outputs": [],
   "source": [
    "import pandas as pd\n",
    "import numpy as np\n",
    "import os\n",
    "import json"
   ]
  },
  {
   "cell_type": "code",
   "execution_count": 3,
   "metadata": {},
   "outputs": [],
   "source": [
    "main_model_dir=\"/home/hrenduchinta/LM-pretraining/models/fl_bert_07_10_2022_05:55:01\"\n",
    "for step in range(50000, 300000, 50000):\n",
    "    model_path=f\"{main_model_dir}/step_{step}\"\n",
    "    try:\n",
    "        data=pd.DataFrame(columns=[\"cb\", \"copa\", \"wsc\", \"boolq\", \"multirc\", \"wic\"], index=[f\"superglue_run_{i}\" for i in range(1, 21)])\n",
    "        task2metric={\"boolq\":\"acc\", \"cb\": \"avg_f1\", \"copa\":\"acc\", \"multirc\":\"f1\", \"record\":\"f1\", \"wic\": \"acc\", \"wsc\": \"acc\"}\n",
    "        for run in range(1, 21):\n",
    "            if run>5:\n",
    "                tasks=[\"cb\", \"copa\", \"wsc\"]\n",
    "            else:\n",
    "                tasks=[\"cb\", \"copa\", \"wsc\", \"boolq\", \"multirc\", \"wic\"]\n",
    "            l=[]\n",
    "            for task in tasks:\n",
    "                with open(f\"{model_path}/superglue_run_{run}/runs/{task}/val_metrics.json\") as f:\n",
    "                    d=json.load(f)\n",
    "                    score=d[task][\"metrics\"][\"minor\"][task2metric[task]]\n",
    "                    l.append(round(100.0*float(score), 2))\n",
    "            if run>5:\n",
    "                l.extend([np.nan]*3)\n",
    "            data.loc[f\"superglue_run_{run}\"]=l\n",
    "        data.loc[\"average\"]=data.mean(axis=0, skipna=True)\n",
    "        data.loc[\"stddev\"]=data.std(axis=0, skipna=True)\n",
    "        data.loc[\"decrement_avg\"]=[np.nan for i in range(6)]\n",
    "        data.loc[\"maximum\"]=data.max(axis=0, skipna=True)\n",
    "        data.loc[\"decrement_max\"]=[np.nan for i in range(6)]\n",
    "        data.to_csv(f\"{model_path}/superglue_results.csv\")\n",
    "    except Exception as e:\n",
    "        print(f\"step-{step}: {str(e)}\")"
   ]
  },
  {
   "cell_type": "code",
   "execution_count": null,
   "metadata": {},
   "outputs": [],
   "source": [
    "main_model_dir=\"/home/hrenduchinta/LM-pretraining/models/fl_without_warmstart_bert_11_06_2022_17:53:56\"\n",
    "for step in range(50000, 300000, 50000):\n",
    "    for run in range(1, 21):\n",
    "        if run>5:\n",
    "            tasks=[\"cb\", \"copa\", \"wsc\"]\n",
    "        else:\n",
    "            tasks=[\"cb\", \"copa\", \"wsc\", \"boolq\", \"multirc\", \"wic\"]\n",
    "        for task in tasks:\n",
    "            if not os.path.isfile(f\"{main_model_dir}/step_{step}/superglue_run_{run}/runs/{task}/val_metrics.json\"):\n",
    "                print(step, run, task)"
   ]
  },
  {
   "cell_type": "code",
   "execution_count": 2,
   "metadata": {},
   "outputs": [],
   "source": [
    "import json\n",
    "from statistics import mean, stdev"
   ]
  },
  {
   "cell_type": "code",
   "execution_count": 24,
   "metadata": {},
   "outputs": [],
   "source": [
    "l=[]\n",
    "for i in range(1,21):\n",
    "    with open(f\"/home/hrenduchinta/LM-pretraining/models/regular_bert/test_superglue_run_{i}/runs/cb/val_metrics.json\", \"r\") as f:\n",
    "        d=json.load(f)\n",
    "        l.append(100*d[\"cb\"][\"metrics\"][\"minor\"][\"avg_f1\"])"
   ]
  },
  {
   "cell_type": "code",
   "execution_count": 25,
   "metadata": {},
   "outputs": [
    {
     "data": {
      "text/plain": [
       "(74.88759057452789, 2.4532846869924643)"
      ]
     },
     "execution_count": 25,
     "metadata": {},
     "output_type": "execute_result"
    }
   ],
   "source": [
    "mean(l), stdev(l)"
   ]
  },
  {
   "cell_type": "code",
   "execution_count": 9,
   "metadata": {},
   "outputs": [],
   "source": [
    "l=[]\n",
    "for i in range(1,6):\n",
    "    with open(f\"/home/hrenduchinta/LM-pretraining/models/regular_bert/test_superglue_run_{i}/runs/copa/val_metrics.json\", \"r\") as f:\n",
    "        d=json.load(f)\n",
    "        l.append(100*d[\"copa\"][\"metrics\"][\"minor\"][\"acc\"])"
   ]
  },
  {
   "cell_type": "code",
   "execution_count": 10,
   "metadata": {},
   "outputs": [
    {
     "data": {
      "text/plain": [
       "(67.8, 3.3466401061363023)"
      ]
     },
     "execution_count": 10,
     "metadata": {},
     "output_type": "execute_result"
    }
   ],
   "source": [
    "mean(l), stdev(l)"
   ]
  },
  {
   "cell_type": "code",
   "execution_count": 11,
   "metadata": {},
   "outputs": [
    {
     "data": {
      "text/plain": [
       "[70.0, 62.0, 68.0, 70.0, 69.0]"
      ]
     },
     "execution_count": 11,
     "metadata": {},
     "output_type": "execute_result"
    }
   ],
   "source": [
    "l"
   ]
  },
  {
   "cell_type": "code",
   "execution_count": null,
   "metadata": {},
   "outputs": [],
   "source": []
  }
 ],
 "metadata": {
  "kernelspec": {
   "display_name": "Python 3.7.12 ('ingenious-env': venv)",
   "language": "python",
   "name": "python3"
  },
  "language_info": {
   "codemirror_mode": {
    "name": "ipython",
    "version": 3
   },
   "file_extension": ".py",
   "mimetype": "text/x-python",
   "name": "python",
   "nbconvert_exporter": "python",
   "pygments_lexer": "ipython3",
   "version": "3.7.12"
  },
  "orig_nbformat": 4,
  "vscode": {
   "interpreter": {
    "hash": "13ad8c38ecb90713c33d78b40c599973b0f7cdda47714d00efe1ed11a1ec8108"
   }
  }
 },
 "nbformat": 4,
 "nbformat_minor": 2
}
