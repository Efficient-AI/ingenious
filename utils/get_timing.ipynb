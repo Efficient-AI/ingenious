{
 "cells": [
  {
   "cell_type": "code",
   "execution_count": 1,
   "metadata": {},
   "outputs": [],
   "source": [
    "import datetime"
   ]
  },
  {
   "cell_type": "code",
   "execution_count": 2,
   "metadata": {},
   "outputs": [
    {
     "name": "stdout",
     "output_type": "stream",
     "text": [
      "0.0\n",
      "0.0\n",
      "110714.174092\n"
     ]
    }
   ],
   "source": [
    "logfile=\"logs/random_online_bert_logs_28_06_2022_19:58:36/train_logs.log\"\n",
    "start_time=datetime.datetime.now()\n",
    "end_time=datetime.datetime.now()\n",
    "subset_selection_time=0.0\n",
    "representations_time=0.0\n",
    "with open(logfile, \"r\") as f:\n",
    "    prev_line=\"\"\n",
    "    for line in f:\n",
    "        if \"***** Running training *****\" in line:\n",
    "            l=line.split()\n",
    "            start_time=datetime.datetime.strptime(l[0]+\" \"+l[1], \"%m/%d/%Y %H:%M:%S\")\n",
    "        if \"Saving the final model\" in line:\n",
    "            l=line.split()\n",
    "            end_time=datetime.datetime.strptime(l[0]+\" \"+l[1], \"%m/%d/%Y %H:%M:%S\")\n",
    "        if \"time\" in line:\n",
    "            subset_selection_time+=float(line.split()[-1])\n",
    "        if \"Representations Size\" in line:\n",
    "            l1=prev_line.split()\n",
    "            l2=line.split()\n",
    "            # print(l1)\n",
    "            t1=datetime.datetime.strptime(l1[0]+\" \"+l1[1], \"%m/%d/%Y %H:%M:%S\")\n",
    "            t2=datetime.datetime.strptime(l2[0]+\" \"+l2[1], \"%m/%d/%Y %H:%M:%S\")\n",
    "            representations_time+=(t2-t1).total_seconds()\n",
    "        prev_line=line\n",
    "print(subset_selection_time)\n",
    "print(representations_time)\n",
    "print((end_time-start_time).total_seconds())"
   ]
  }
 ],
 "metadata": {
  "interpreter": {
   "hash": "c3f2c66fe79bcaa72eb3f732988cf6c70cb622bea7b3b0ccaf72fb1aa509e996"
  },
  "kernelspec": {
   "display_name": "Python 3.7.12 ('ingenious-env': venv)",
   "language": "python",
   "name": "python3"
  },
  "language_info": {
   "codemirror_mode": {
    "name": "ipython",
    "version": 3
   },
   "file_extension": ".py",
   "mimetype": "text/x-python",
   "name": "python",
   "nbconvert_exporter": "python",
   "pygments_lexer": "ipython3",
   "version": "3.7.12"
  },
  "orig_nbformat": 4
 },
 "nbformat": 4,
 "nbformat_minor": 2
}
