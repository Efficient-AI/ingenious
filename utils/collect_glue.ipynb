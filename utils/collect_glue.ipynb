{
 "cells": [
  {
   "cell_type": "code",
   "execution_count": 1,
   "metadata": {},
   "outputs": [],
   "source": [
    "import pandas as pd"
   ]
  },
  {
   "cell_type": "code",
   "execution_count": 2,
   "metadata": {},
   "outputs": [
    {
     "data": {
      "text/html": [
       "<div>\n",
       "<style scoped>\n",
       "    .dataframe tbody tr th:only-of-type {\n",
       "        vertical-align: middle;\n",
       "    }\n",
       "\n",
       "    .dataframe tbody tr th {\n",
       "        vertical-align: top;\n",
       "    }\n",
       "\n",
       "    .dataframe thead th {\n",
       "        text-align: right;\n",
       "    }\n",
       "</style>\n",
       "<table border=\"1\" class=\"dataframe\">\n",
       "  <thead>\n",
       "    <tr style=\"text-align: right;\">\n",
       "      <th></th>\n",
       "      <th>cola</th>\n",
       "      <th>sst2</th>\n",
       "      <th>mrpc</th>\n",
       "      <th>stsb</th>\n",
       "      <th>qqp</th>\n",
       "      <th>mnli-m</th>\n",
       "      <th>mnli-mm</th>\n",
       "      <th>qnli</th>\n",
       "      <th>rte</th>\n",
       "      <th>average</th>\n",
       "    </tr>\n",
       "  </thead>\n",
       "  <tbody>\n",
       "    <tr>\n",
       "      <th>glue_run1</th>\n",
       "      <td>54.69</td>\n",
       "      <td>90.51</td>\n",
       "      <td>89.91</td>\n",
       "      <td>88.04</td>\n",
       "      <td>87.69</td>\n",
       "      <td>82.18</td>\n",
       "      <td>82.70</td>\n",
       "      <td>90.21</td>\n",
       "      <td>67.50</td>\n",
       "      <td>81.49</td>\n",
       "    </tr>\n",
       "    <tr>\n",
       "      <th>glue_run2</th>\n",
       "      <td>53.70</td>\n",
       "      <td>90.96</td>\n",
       "      <td>90.14</td>\n",
       "      <td>88.26</td>\n",
       "      <td>87.51</td>\n",
       "      <td>81.81</td>\n",
       "      <td>82.90</td>\n",
       "      <td>90.01</td>\n",
       "      <td>64.06</td>\n",
       "      <td>81.04</td>\n",
       "    </tr>\n",
       "    <tr>\n",
       "      <th>glue_run3</th>\n",
       "      <td>55.15</td>\n",
       "      <td>91.07</td>\n",
       "      <td>89.67</td>\n",
       "      <td>88.08</td>\n",
       "      <td>87.48</td>\n",
       "      <td>82.28</td>\n",
       "      <td>82.88</td>\n",
       "      <td>90.19</td>\n",
       "      <td>65.94</td>\n",
       "      <td>81.42</td>\n",
       "    </tr>\n",
       "    <tr>\n",
       "      <th>average</th>\n",
       "      <td>54.52</td>\n",
       "      <td>90.85</td>\n",
       "      <td>89.90</td>\n",
       "      <td>88.13</td>\n",
       "      <td>87.56</td>\n",
       "      <td>82.09</td>\n",
       "      <td>82.83</td>\n",
       "      <td>90.13</td>\n",
       "      <td>65.83</td>\n",
       "      <td>81.32</td>\n",
       "    </tr>\n",
       "  </tbody>\n",
       "</table>\n",
       "</div>"
      ],
      "text/plain": [
       "            cola   sst2   mrpc   stsb    qqp  mnli-m  mnli-mm   qnli    rte  \\\n",
       "glue_run1  54.69  90.51  89.91  88.04  87.69   82.18    82.70  90.21  67.50   \n",
       "glue_run2  53.70  90.96  90.14  88.26  87.51   81.81    82.90  90.01  64.06   \n",
       "glue_run3  55.15  91.07  89.67  88.08  87.48   82.28    82.88  90.19  65.94   \n",
       "average    54.52  90.85  89.90  88.13  87.56   82.09    82.83  90.13  65.83   \n",
       "\n",
       "           average  \n",
       "glue_run1    81.49  \n",
       "glue_run2    81.04  \n",
       "glue_run3    81.42  \n",
       "average      81.32  "
      ]
     },
     "execution_count": 2,
     "metadata": {},
     "output_type": "execute_result"
    }
   ],
   "source": [
    "folder=\"/home/sumbhati/ingenious/LM-pretraining/models/fl_from_fl_19_07_2022_bert_20_07_2022_14:32:03/\"\n",
    "tasks=[\"cola\", \"sst2\", \"mrpc\", \"stsb\", \"qqp\", \"mnli\", \"qnli\", \"rte\"]\n",
    "data=pd.DataFrame(columns=[\"cola\", \"sst2\", \"mrpc\", \"stsb\", \"qqp\", \"mnli-m\", \"mnli-mm\", \"qnli\", \"rte\"], index=['glue_run1', 'glue_run2', 'glue_run3'])\n",
    "for run in range(1,4):\n",
    "    l=[]\n",
    "    for task in tasks:\n",
    "        with open(folder+f\"glue_run{run}/\"+task+\".log\", \"r\") as f:\n",
    "            lines=f.readlines()\n",
    "            if task==\"mnli\":\n",
    "                l.append(100*float(lines[-2].split()[-1].rstrip().rstrip('}')))\n",
    "            l.append(100*float(lines[-1].split()[-1].rstrip().rstrip('}')))\n",
    "    data.loc[f\"glue_run{run}\"]=l\n",
    "data.loc[\"average\"]=data.mean(axis=0)\n",
    "data[\"average\"]=data.mean(axis=1)\n",
    "data=data.apply(lambda x: [round(f, 2) for f in x])\n",
    "data.to_csv(folder+\"glue_results.csv\")\n",
    "data"
   ]
  },
  {
   "cell_type": "code",
   "execution_count": null,
   "metadata": {},
   "outputs": [],
   "source": []
  }
 ],
 "metadata": {
  "interpreter": {
   "hash": "13ad8c38ecb90713c33d78b40c599973b0f7cdda47714d00efe1ed11a1ec8108"
  },
  "kernelspec": {
   "display_name": "Python 3.7.12 ('ingenious-env': venv)",
   "language": "python",
   "name": "python3"
  },
  "language_info": {
   "codemirror_mode": {
    "name": "ipython",
    "version": 3
   },
   "file_extension": ".py",
   "mimetype": "text/x-python",
   "name": "python",
   "nbconvert_exporter": "python",
   "pygments_lexer": "ipython3",
   "version": "3.7.12"
  },
  "orig_nbformat": 4
 },
 "nbformat": 4,
 "nbformat_minor": 2
}
