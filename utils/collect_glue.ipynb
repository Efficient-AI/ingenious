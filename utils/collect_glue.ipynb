{
 "cells": [
  {
   "cell_type": "code",
   "execution_count": 1,
   "metadata": {},
   "outputs": [],
   "source": [
    "import pandas as pd"
   ]
  },
  {
   "cell_type": "code",
   "execution_count": 2,
   "metadata": {},
   "outputs": [
    {
     "data": {
      "text/html": [
       "<div>\n",
       "<style scoped>\n",
       "    .dataframe tbody tr th:only-of-type {\n",
       "        vertical-align: middle;\n",
       "    }\n",
       "\n",
       "    .dataframe tbody tr th {\n",
       "        vertical-align: top;\n",
       "    }\n",
       "\n",
       "    .dataframe thead th {\n",
       "        text-align: right;\n",
       "    }\n",
       "</style>\n",
       "<table border=\"1\" class=\"dataframe\">\n",
       "  <thead>\n",
       "    <tr style=\"text-align: right;\">\n",
       "      <th></th>\n",
       "      <th>cola</th>\n",
       "      <th>sst2</th>\n",
       "      <th>mrpc</th>\n",
       "      <th>stsb</th>\n",
       "      <th>qqp</th>\n",
       "      <th>mnli-m</th>\n",
       "      <th>mnli-mm</th>\n",
       "      <th>qnli</th>\n",
       "      <th>rte</th>\n",
       "      <th>average</th>\n",
       "    </tr>\n",
       "  </thead>\n",
       "  <tbody>\n",
       "    <tr>\n",
       "      <th>glue_run1</th>\n",
       "      <td>49.90</td>\n",
       "      <td>91.07</td>\n",
       "      <td>89.31</td>\n",
       "      <td>87.24</td>\n",
       "      <td>87.28</td>\n",
       "      <td>81.99</td>\n",
       "      <td>81.98</td>\n",
       "      <td>89.75</td>\n",
       "      <td>65.31</td>\n",
       "      <td>80.43</td>\n",
       "    </tr>\n",
       "    <tr>\n",
       "      <th>glue_run2</th>\n",
       "      <td>52.90</td>\n",
       "      <td>89.96</td>\n",
       "      <td>90.15</td>\n",
       "      <td>87.44</td>\n",
       "      <td>87.51</td>\n",
       "      <td>82.22</td>\n",
       "      <td>82.70</td>\n",
       "      <td>89.86</td>\n",
       "      <td>65.31</td>\n",
       "      <td>80.89</td>\n",
       "    </tr>\n",
       "    <tr>\n",
       "      <th>glue_run3</th>\n",
       "      <td>51.04</td>\n",
       "      <td>90.74</td>\n",
       "      <td>89.03</td>\n",
       "      <td>87.08</td>\n",
       "      <td>87.44</td>\n",
       "      <td>81.93</td>\n",
       "      <td>82.69</td>\n",
       "      <td>89.73</td>\n",
       "      <td>61.56</td>\n",
       "      <td>80.14</td>\n",
       "    </tr>\n",
       "    <tr>\n",
       "      <th>average</th>\n",
       "      <td>51.28</td>\n",
       "      <td>90.59</td>\n",
       "      <td>89.50</td>\n",
       "      <td>87.25</td>\n",
       "      <td>87.41</td>\n",
       "      <td>82.05</td>\n",
       "      <td>82.46</td>\n",
       "      <td>89.78</td>\n",
       "      <td>64.06</td>\n",
       "      <td>80.49</td>\n",
       "    </tr>\n",
       "  </tbody>\n",
       "</table>\n",
       "</div>"
      ],
      "text/plain": [
       "            cola   sst2   mrpc   stsb    qqp  mnli-m  mnli-mm   qnli    rte  \\\n",
       "glue_run1  49.90  91.07  89.31  87.24  87.28   81.99    81.98  89.75  65.31   \n",
       "glue_run2  52.90  89.96  90.15  87.44  87.51   82.22    82.70  89.86  65.31   \n",
       "glue_run3  51.04  90.74  89.03  87.08  87.44   81.93    82.69  89.73  61.56   \n",
       "average    51.28  90.59  89.50  87.25  87.41   82.05    82.46  89.78  64.06   \n",
       "\n",
       "           average  \n",
       "glue_run1    80.43  \n",
       "glue_run2    80.89  \n",
       "glue_run3    80.14  \n",
       "average      80.49  "
      ]
     },
     "execution_count": 2,
     "metadata": {},
     "output_type": "execute_result"
    }
   ],
   "source": [
    "folder=\"models/fl_bert_02_07_2022_10:41:35/\"\n",
    "tasks=[\"cola\", \"sst2\", \"mrpc\", \"stsb\", \"qqp\", \"mnli\", \"qnli\", \"rte\"]\n",
    "data=pd.DataFrame(columns=[\"cola\", \"sst2\", \"mrpc\", \"stsb\", \"qqp\", \"mnli-m\", \"mnli-mm\", \"qnli\", \"rte\"], index=['glue_run1', 'glue_run2', 'glue_run3'])\n",
    "for run in range(1,4):\n",
    "    l=[]\n",
    "    for task in tasks:\n",
    "        with open(folder+f\"glue_run{run}/\"+task+\".log\", \"r\") as f:\n",
    "            lines=f.readlines()\n",
    "            if task==\"mnli\":\n",
    "                l.append(100*float(lines[-2].split()[-1].rstrip().rstrip('}')))\n",
    "            l.append(100*float(lines[-1].split()[-1].rstrip().rstrip('}')))\n",
    "    data.loc[f\"glue_run{run}\"]=l\n",
    "data.loc[\"average\"]=data.mean(axis=0)\n",
    "data[\"average\"]=data.mean(axis=1)\n",
    "data=data.apply(lambda x: [round(f, 2) for f in x])\n",
    "data.to_csv(folder+\"glue_results.csv\")\n",
    "data"
   ]
  },
  {
   "cell_type": "code",
   "execution_count": null,
   "metadata": {},
   "outputs": [],
   "source": []
  }
 ],
 "metadata": {
  "interpreter": {
   "hash": "13ad8c38ecb90713c33d78b40c599973b0f7cdda47714d00efe1ed11a1ec8108"
  },
  "kernelspec": {
   "display_name": "Python 3.7.12 ('ingenious-env': venv)",
   "language": "python",
   "name": "python3"
  },
  "language_info": {
   "codemirror_mode": {
    "name": "ipython",
    "version": 3
   },
   "file_extension": ".py",
   "mimetype": "text/x-python",
   "name": "python",
   "nbconvert_exporter": "python",
   "pygments_lexer": "ipython3",
   "version": "3.7.12"
  },
  "orig_nbformat": 4
 },
 "nbformat": 4,
 "nbformat_minor": 2
}
