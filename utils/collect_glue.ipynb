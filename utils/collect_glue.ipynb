{
 "cells": [
  {
   "cell_type": "code",
   "execution_count": 1,
   "metadata": {},
   "outputs": [],
   "source": [
    "import pandas as pd"
   ]
  },
  {
   "cell_type": "code",
   "execution_count": 3,
   "metadata": {},
   "outputs": [
    {
     "data": {
      "text/html": [
       "<div>\n",
       "<style scoped>\n",
       "    .dataframe tbody tr th:only-of-type {\n",
       "        vertical-align: middle;\n",
       "    }\n",
       "\n",
       "    .dataframe tbody tr th {\n",
       "        vertical-align: top;\n",
       "    }\n",
       "\n",
       "    .dataframe thead th {\n",
       "        text-align: right;\n",
       "    }\n",
       "</style>\n",
       "<table border=\"1\" class=\"dataframe\">\n",
       "  <thead>\n",
       "    <tr style=\"text-align: right;\">\n",
       "      <th></th>\n",
       "      <th>cola</th>\n",
       "      <th>sst2</th>\n",
       "      <th>mrpc</th>\n",
       "      <th>stsb</th>\n",
       "      <th>qqp</th>\n",
       "      <th>mnli-m</th>\n",
       "      <th>mnli-mm</th>\n",
       "      <th>qnli</th>\n",
       "      <th>rte</th>\n",
       "      <th>average</th>\n",
       "    </tr>\n",
       "  </thead>\n",
       "  <tbody>\n",
       "    <tr>\n",
       "      <th>glue_run1</th>\n",
       "      <td>50.97</td>\n",
       "      <td>91.07</td>\n",
       "      <td>90.79</td>\n",
       "      <td>88.35</td>\n",
       "      <td>87.40</td>\n",
       "      <td>82.11</td>\n",
       "      <td>83.03</td>\n",
       "      <td>89.88</td>\n",
       "      <td>65.00</td>\n",
       "      <td>80.96</td>\n",
       "    </tr>\n",
       "    <tr>\n",
       "      <th>glue_run2</th>\n",
       "      <td>51.25</td>\n",
       "      <td>91.52</td>\n",
       "      <td>90.08</td>\n",
       "      <td>88.30</td>\n",
       "      <td>87.60</td>\n",
       "      <td>82.25</td>\n",
       "      <td>83.17</td>\n",
       "      <td>90.33</td>\n",
       "      <td>67.81</td>\n",
       "      <td>81.37</td>\n",
       "    </tr>\n",
       "    <tr>\n",
       "      <th>glue_run3</th>\n",
       "      <td>51.01</td>\n",
       "      <td>90.40</td>\n",
       "      <td>90.20</td>\n",
       "      <td>88.25</td>\n",
       "      <td>87.62</td>\n",
       "      <td>82.30</td>\n",
       "      <td>82.95</td>\n",
       "      <td>90.13</td>\n",
       "      <td>64.06</td>\n",
       "      <td>80.77</td>\n",
       "    </tr>\n",
       "    <tr>\n",
       "      <th>average</th>\n",
       "      <td>51.08</td>\n",
       "      <td>91.00</td>\n",
       "      <td>90.36</td>\n",
       "      <td>88.30</td>\n",
       "      <td>87.54</td>\n",
       "      <td>82.22</td>\n",
       "      <td>83.05</td>\n",
       "      <td>90.12</td>\n",
       "      <td>65.62</td>\n",
       "      <td>81.03</td>\n",
       "    </tr>\n",
       "  </tbody>\n",
       "</table>\n",
       "</div>"
      ],
      "text/plain": [
       "            cola   sst2   mrpc   stsb    qqp  mnli-m  mnli-mm   qnli    rte  \\\n",
       "glue_run1  50.97  91.07  90.79  88.35  87.40   82.11    83.03  89.88  65.00   \n",
       "glue_run2  51.25  91.52  90.08  88.30  87.60   82.25    83.17  90.33  67.81   \n",
       "glue_run3  51.01  90.40  90.20  88.25  87.62   82.30    82.95  90.13  64.06   \n",
       "average    51.08  91.00  90.36  88.30  87.54   82.22    83.05  90.12  65.62   \n",
       "\n",
       "           average  \n",
       "glue_run1    80.96  \n",
       "glue_run2    81.37  \n",
       "glue_run3    80.77  \n",
       "average      81.03  "
      ]
     },
     "execution_count": 3,
     "metadata": {},
     "output_type": "execute_result"
    }
   ],
   "source": [
    "folder=\"/home/sumbhati/ingenious/LM-pretraining/models/fl_bert_30_08_2022_17:12:40/\"\n",
    "tasks=[\"cola\", \"sst2\", \"mrpc\", \"stsb\", \"qqp\", \"mnli\", \"qnli\", \"rte\"]\n",
    "data=pd.DataFrame(columns=[\"cola\", \"sst2\", \"mrpc\", \"stsb\", \"qqp\", \"mnli-m\", \"mnli-mm\", \"qnli\", \"rte\"], index=['glue_run1', 'glue_run2', 'glue_run3'])\n",
    "for run in range(1,4):\n",
    "    l=[]\n",
    "    for task in tasks:\n",
    "        with open(folder+f\"glue_run_{run}/\"+task+\".log\", \"r\") as f:\n",
    "            lines=f.readlines()\n",
    "            if task==\"mnli\":\n",
    "                l.append(100*float(lines[-2].split()[-1].rstrip().rstrip('}')))\n",
    "            l.append(100*float(lines[-1].split()[-1].rstrip().rstrip('}')))\n",
    "    data.loc[f\"glue_run{run}\"]=l\n",
    "data.loc[\"average\"]=data.mean(axis=0)\n",
    "data[\"average\"]=data.mean(axis=1)\n",
    "data=data.apply(lambda x: [round(f, 2) for f in x])\n",
    "data.to_csv(folder+\"glue_results.csv\")\n",
    "data"
   ]
  },
  {
   "cell_type": "code",
   "execution_count": null,
   "metadata": {},
   "outputs": [],
   "source": []
  }
 ],
 "metadata": {
  "kernelspec": {
   "display_name": "Python 3.9.13 ('ingenious')",
   "language": "python",
   "name": "python3"
  },
  "language_info": {
   "codemirror_mode": {
    "name": "ipython",
    "version": 3
   },
   "file_extension": ".py",
   "mimetype": "text/x-python",
   "name": "python",
   "nbconvert_exporter": "python",
   "pygments_lexer": "ipython3",
   "version": "3.9.13"
  },
  "orig_nbformat": 4,
  "vscode": {
   "interpreter": {
    "hash": "330e453a0b5d4a31de1248b81498e4f7229811b6cdc584e51aea2376965a21af"
   }
  }
 },
 "nbformat": 4,
 "nbformat_minor": 2
}
