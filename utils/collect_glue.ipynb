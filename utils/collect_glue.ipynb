{
 "cells": [
  {
   "cell_type": "code",
   "execution_count": 1,
   "metadata": {},
   "outputs": [],
   "source": [
    "import pandas as pd"
   ]
  },
  {
   "cell_type": "code",
   "execution_count": 2,
   "metadata": {},
   "outputs": [
    {
     "data": {
      "text/html": [
       "<div>\n",
       "<style scoped>\n",
       "    .dataframe tbody tr th:only-of-type {\n",
       "        vertical-align: middle;\n",
       "    }\n",
       "\n",
       "    .dataframe tbody tr th {\n",
       "        vertical-align: top;\n",
       "    }\n",
       "\n",
       "    .dataframe thead th {\n",
       "        text-align: right;\n",
       "    }\n",
       "</style>\n",
       "<table border=\"1\" class=\"dataframe\">\n",
       "  <thead>\n",
       "    <tr style=\"text-align: right;\">\n",
       "      <th></th>\n",
       "      <th>cola</th>\n",
       "      <th>sst2</th>\n",
       "      <th>mrpc</th>\n",
       "      <th>stsb</th>\n",
       "      <th>qqp</th>\n",
       "      <th>mnli-m</th>\n",
       "      <th>mnli-mm</th>\n",
       "      <th>qnli</th>\n",
       "      <th>rte</th>\n",
       "      <th>average</th>\n",
       "    </tr>\n",
       "  </thead>\n",
       "  <tbody>\n",
       "    <tr>\n",
       "      <th>glue_run1</th>\n",
       "      <td>50.39</td>\n",
       "      <td>90.85</td>\n",
       "      <td>89.38</td>\n",
       "      <td>88.74</td>\n",
       "      <td>87.54</td>\n",
       "      <td>82.72</td>\n",
       "      <td>83.04</td>\n",
       "      <td>90.41</td>\n",
       "      <td>66.56</td>\n",
       "      <td>81.07</td>\n",
       "    </tr>\n",
       "    <tr>\n",
       "      <th>glue_run2</th>\n",
       "      <td>47.69</td>\n",
       "      <td>91.52</td>\n",
       "      <td>89.52</td>\n",
       "      <td>88.46</td>\n",
       "      <td>87.52</td>\n",
       "      <td>82.55</td>\n",
       "      <td>82.68</td>\n",
       "      <td>90.82</td>\n",
       "      <td>67.50</td>\n",
       "      <td>80.92</td>\n",
       "    </tr>\n",
       "    <tr>\n",
       "      <th>glue_run3</th>\n",
       "      <td>50.64</td>\n",
       "      <td>90.96</td>\n",
       "      <td>89.78</td>\n",
       "      <td>88.00</td>\n",
       "      <td>84.83</td>\n",
       "      <td>82.39</td>\n",
       "      <td>83.07</td>\n",
       "      <td>90.19</td>\n",
       "      <td>63.44</td>\n",
       "      <td>80.37</td>\n",
       "    </tr>\n",
       "    <tr>\n",
       "      <th>average</th>\n",
       "      <td>49.57</td>\n",
       "      <td>91.11</td>\n",
       "      <td>89.56</td>\n",
       "      <td>88.40</td>\n",
       "      <td>86.63</td>\n",
       "      <td>82.55</td>\n",
       "      <td>82.93</td>\n",
       "      <td>90.47</td>\n",
       "      <td>65.83</td>\n",
       "      <td>80.78</td>\n",
       "    </tr>\n",
       "  </tbody>\n",
       "</table>\n",
       "</div>"
      ],
      "text/plain": [
       "            cola   sst2   mrpc   stsb    qqp  mnli-m  mnli-mm   qnli    rte  \\\n",
       "glue_run1  50.39  90.85  89.38  88.74  87.54   82.72    83.04  90.41  66.56   \n",
       "glue_run2  47.69  91.52  89.52  88.46  87.52   82.55    82.68  90.82  67.50   \n",
       "glue_run3  50.64  90.96  89.78  88.00  84.83   82.39    83.07  90.19  63.44   \n",
       "average    49.57  91.11  89.56  88.40  86.63   82.55    82.93  90.47  65.83   \n",
       "\n",
       "           average  \n",
       "glue_run1    81.07  \n",
       "glue_run2    80.92  \n",
       "glue_run3    80.37  \n",
       "average      80.78  "
      ]
     },
     "execution_count": 2,
     "metadata": {},
     "output_type": "execute_result"
    }
   ],
   "source": [
    "folder=\"/home/sumbhati/ingenious/LM-pretraining/models/fl_bert_31_07_2022_10:27:29/\"\n",
    "tasks=[\"cola\", \"sst2\", \"mrpc\", \"stsb\", \"qqp\", \"mnli\", \"qnli\", \"rte\"]\n",
    "data=pd.DataFrame(columns=[\"cola\", \"sst2\", \"mrpc\", \"stsb\", \"qqp\", \"mnli-m\", \"mnli-mm\", \"qnli\", \"rte\"], index=['glue_run1', 'glue_run2', 'glue_run3'])\n",
    "for run in range(1,4):\n",
    "    l=[]\n",
    "    for task in tasks:\n",
    "        with open(folder+f\"glue_run{run}/\"+task+\".log\", \"r\") as f:\n",
    "            lines=f.readlines()\n",
    "            if task==\"mnli\":\n",
    "                l.append(100*float(lines[-2].split()[-1].rstrip().rstrip('}')))\n",
    "            l.append(100*float(lines[-1].split()[-1].rstrip().rstrip('}')))\n",
    "    data.loc[f\"glue_run{run}\"]=l\n",
    "data.loc[\"average\"]=data.mean(axis=0)\n",
    "data[\"average\"]=data.mean(axis=1)\n",
    "data=data.apply(lambda x: [round(f, 2) for f in x])\n",
    "data.to_csv(folder+\"glue_results.csv\")\n",
    "data"
   ]
  },
  {
   "cell_type": "code",
   "execution_count": null,
   "metadata": {},
   "outputs": [],
   "source": []
  }
 ],
 "metadata": {
  "kernelspec": {
   "display_name": "Python 3.7.12 ('ingenious-env': venv)",
   "language": "python",
   "name": "python3"
  },
  "language_info": {
   "codemirror_mode": {
    "name": "ipython",
    "version": 3
   },
   "file_extension": ".py",
   "mimetype": "text/x-python",
   "name": "python",
   "nbconvert_exporter": "python",
   "pygments_lexer": "ipython3",
   "version": "3.7.12"
  },
  "orig_nbformat": 4,
  "vscode": {
   "interpreter": {
    "hash": "c3f2c66fe79bcaa72eb3f732988cf6c70cb622bea7b3b0ccaf72fb1aa509e996"
   }
  }
 },
 "nbformat": 4,
 "nbformat_minor": 2
}
