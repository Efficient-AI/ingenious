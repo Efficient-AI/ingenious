{
 "cells": [
  {
   "cell_type": "code",
   "execution_count": 1,
   "metadata": {},
   "outputs": [
    {
     "name": "stderr",
     "output_type": "stream",
     "text": [
      "/home/hrenduchinta/LM-pretraining/ingenious-env/lib/python3.7/site-packages/tqdm/auto.py:22: TqdmWarning: IProgress not found. Please update jupyter and ipywidgets. See https://ipywidgets.readthedocs.io/en/stable/user_install.html\n",
      "  from .autonotebook import tqdm as notebook_tqdm\n"
     ]
    }
   ],
   "source": [
    "import torch\n",
    "import pandas as pd\n",
    "from tqdm.auto import tqdm"
   ]
  },
  {
   "cell_type": "code",
   "execution_count": 11,
   "metadata": {},
   "outputs": [],
   "source": [
    "def intersection_cnt(folder):\n",
    "    subsets=[]\n",
    "    for i in range(0, 225, 25):\n",
    "        if i==0:\n",
    "            subsets.append(set(torch.load(folder+\"subset_indices_after_step_0.pt\").tolist()))\n",
    "        else:\n",
    "            subsets.append(set(torch.load(folder+f\"subset_indices_after_step_{i}000.pt\").tolist()))\n",
    "    df=pd.DataFrame()\n",
    "    df[\"subsets\"]=[\"{}K\".format(i) for i in range(0, 225, 25)]\n",
    "    for i in range(0, 225, 25):\n",
    "        df[\"{}K\".format(i)]=[0 for j in range(0, 225, 25)]\n",
    "    df.set_index(\"subsets\", inplace=True)\n",
    "    pbar=tqdm(range(45))\n",
    "    for i in range(0, 225, 25):\n",
    "        for j in range(i, 225, 25):\n",
    "            df[\"{}K\".format(i)][\"{}K\".format(j)]=len(subsets[i//25].intersection(subsets[j//25]))\n",
    "            pbar.update(1)\n",
    "    print(\"Union\")\n",
    "    s=subsets[0]\n",
    "    print(len(subsets[0]))\n",
    "    for i in range(1, len(subsets)):\n",
    "        s=s.union(subsets[i])\n",
    "        print(len(s))\n",
    "    print(\"Intersection\")\n",
    "    s=subsets[0]\n",
    "    print(len(subsets[0]))\n",
    "    for i in range(1, len(subsets)):\n",
    "        s=s.intersection(subsets[i])\n",
    "        print(len(s))\n",
    "    return df"
   ]
  },
  {
   "cell_type": "markdown",
   "metadata": {},
   "source": [
    "# Random-Online"
   ]
  },
  {
   "cell_type": "code",
   "execution_count": 12,
   "metadata": {},
   "outputs": [
    {
     "name": "stderr",
     "output_type": "stream",
     "text": [
      "100%|██████████| 45/45 [00:46<00:00,  1.03it/s]"
     ]
    },
    {
     "name": "stdout",
     "output_type": "stream",
     "text": [
      "Union\n",
      "10385854\n",
      "18177160\n",
      "24022707\n",
      "28403717\n",
      "31687992\n",
      "34152079\n",
      "36000178\n",
      "37384279\n",
      "38423412\n",
      "Intersection\n",
      "10385854\n",
      "2594548\n",
      "648115\n",
      "162102\n"
     ]
    },
    {
     "name": "stderr",
     "output_type": "stream",
     "text": [
      "100%|██████████| 45/45 [01:33<00:00,  2.07s/it]"
     ]
    },
    {
     "name": "stdout",
     "output_type": "stream",
     "text": [
      "40729\n",
      "10266\n",
      "2542\n",
      "642\n",
      "189\n"
     ]
    },
    {
     "name": "stderr",
     "output_type": "stream",
     "text": [
      "\n"
     ]
    }
   ],
   "source": [
    "folder=\"subsets/random_25percent_bert_25_05_2022_06:08:15/\"\n",
    "df=intersection_cnt(folder)\n",
    "df.to_csv(\"random-online.csv\")"
   ]
  },
  {
   "cell_type": "markdown",
   "metadata": {},
   "source": [
    "# LogDet Layer 6"
   ]
  },
  {
   "cell_type": "code",
   "execution_count": 19,
   "metadata": {},
   "outputs": [
    {
     "name": "stderr",
     "output_type": "stream",
     "text": [
      "\n",
      "\n",
      "\u001b[A\u001b[A\n",
      "\n",
      "\u001b[A\u001b[A\n",
      "\n",
      "\u001b[A\u001b[A\n",
      "\n",
      "\u001b[A\u001b[A\n",
      "\n",
      "\u001b[A\u001b[A\n",
      "\n",
      "\u001b[A\u001b[A\n",
      "\n",
      "\u001b[A\u001b[A\n",
      "\n",
      "\u001b[A\u001b[A\n",
      "\n",
      "\u001b[A\u001b[A\n",
      "\n",
      "\u001b[A\u001b[A\n",
      "\n",
      "\u001b[A\u001b[A\n",
      "\n",
      "\u001b[A\u001b[A\n",
      "\n",
      "\u001b[A\u001b[A\n",
      "\n",
      "\u001b[A\u001b[A\n",
      "\n",
      "\u001b[A\u001b[A\n",
      "\n",
      "\u001b[A\u001b[A\n",
      "\n",
      "\u001b[A\u001b[A\n",
      "\n",
      "\u001b[A\u001b[A\n",
      "\n",
      "\u001b[A\u001b[A\n",
      "\n",
      "\u001b[A\u001b[A\n",
      "\n",
      "\u001b[A\u001b[A\n",
      "\n",
      "\u001b[A\u001b[A\n",
      "\n",
      "\u001b[A\u001b[A\n",
      "\n",
      "\u001b[A\u001b[A\n",
      "\n",
      "\u001b[A\u001b[A\n",
      "\n",
      "\u001b[A\u001b[A\n",
      "\n",
      "\u001b[A\u001b[A\n",
      "\n",
      "\u001b[A\u001b[A\n",
      "\n",
      "\u001b[A\u001b[A\n",
      "\n",
      "\u001b[A\u001b[A\n",
      "\n",
      "\u001b[A\u001b[A\n",
      "\n",
      "\u001b[A\u001b[A\n",
      "\n",
      "\u001b[A\u001b[A\n",
      "\n",
      "\u001b[A\u001b[A\n",
      "\n",
      "\u001b[A\u001b[A\n",
      "\n",
      "\u001b[A\u001b[A\n",
      "\n",
      "\u001b[A\u001b[A\n",
      "\n",
      "\u001b[A\u001b[A\n",
      "\n",
      "\u001b[A\u001b[A\n",
      "\n",
      "\u001b[A\u001b[A\n",
      "\n",
      "\u001b[A\u001b[A\n",
      "\n",
      "\u001b[A\u001b[A\n",
      "\n",
      "\u001b[A\u001b[A\n",
      "\n",
      "\u001b[A\u001b[A\n",
      "\n",
      "\u001b[A\u001b[A\n",
      "\n",
      "\u001b[A\u001b[A"
     ]
    },
    {
     "name": "stdout",
     "output_type": "stream",
     "text": [
      "Union\n",
      "10385854\n",
      "18176443\n",
      "21505680\n",
      "23454654\n",
      "24776422\n",
      "25744906\n",
      "26482003\n",
      "27079830\n",
      "27561599\n",
      "Intersection\n",
      "10385854\n",
      "2599411\n",
      "1488223\n",
      "1061822\n",
      "823583\n",
      "664576\n",
      "550625\n",
      "463140\n",
      "395166\n"
     ]
    },
    {
     "name": "stderr",
     "output_type": "stream",
     "text": [
      "100%|██████████| 45/45 [01:56<00:00,  2.60s/it]\n"
     ]
    }
   ],
   "source": [
    "folder=\"subsets/logdet_25percent_bert_22_05_2022_21:09:35/\"\n",
    "df=intersection_cnt(folder)\n",
    "df.to_csv(\"logdet_25percent.csv\")"
   ]
  },
  {
   "cell_type": "markdown",
   "metadata": {},
   "source": [
    "# Graph Cut Layer 6"
   ]
  },
  {
   "cell_type": "code",
   "execution_count": 20,
   "metadata": {},
   "outputs": [
    {
     "name": "stderr",
     "output_type": "stream",
     "text": [
      "\n",
      "\n",
      "\u001b[A\u001b[A\n",
      "\n",
      "\u001b[A\u001b[A\n",
      "\n",
      "\u001b[A\u001b[A\n",
      "\n",
      "\u001b[A\u001b[A\n",
      "\n",
      "\u001b[A\u001b[A\n",
      "\n",
      "\u001b[A\u001b[A\n",
      "\n",
      "\u001b[A\u001b[A\n",
      "\n",
      "\u001b[A\u001b[A\n",
      "\n",
      "\u001b[A\u001b[A\n",
      "\n",
      "\u001b[A\u001b[A\n",
      "\n",
      "\u001b[A\u001b[A\n",
      "\n",
      "\u001b[A\u001b[A\n",
      "\n",
      "\u001b[A\u001b[A\n",
      "\n",
      "\u001b[A\u001b[A\n",
      "\n",
      "\u001b[A\u001b[A\n",
      "\n",
      "\u001b[A\u001b[A\n",
      "\n",
      "\u001b[A\u001b[A\n",
      "\n",
      "\u001b[A\u001b[A\n",
      "\n",
      "\u001b[A\u001b[A\n",
      "\n",
      "\u001b[A\u001b[A\n",
      "\n",
      "\u001b[A\u001b[A\n",
      "\n",
      "\u001b[A\u001b[A\n",
      "\n",
      "\u001b[A\u001b[A\n",
      "\n",
      "\u001b[A\u001b[A\n",
      "\n",
      "\u001b[A\u001b[A\n",
      "\n",
      "\u001b[A\u001b[A\n",
      "\n",
      "\u001b[A\u001b[A\n",
      "\n",
      "\u001b[A\u001b[A\n",
      "\n",
      "\u001b[A\u001b[A\n",
      "\n",
      "\u001b[A\u001b[A\n",
      "\n",
      "\u001b[A\u001b[A\n",
      "\n",
      "\u001b[A\u001b[A\n",
      "\n",
      "\u001b[A\u001b[A\n",
      "\n",
      "\u001b[A\u001b[A\n",
      "\n",
      "\u001b[A\u001b[A\n",
      "\n",
      "\u001b[A\u001b[A\n",
      "\n",
      "\u001b[A\u001b[A\n",
      "\n",
      "\u001b[A\u001b[A\n",
      "\n",
      "\u001b[A\u001b[A\n",
      "\n",
      "\u001b[A\u001b[A\n",
      "\n",
      "\u001b[A\u001b[A\n",
      "\n",
      "\u001b[A\u001b[A\n",
      "\n",
      "\u001b[A\u001b[A\n",
      "\n",
      "\u001b[A\u001b[A\n",
      "\n",
      "\u001b[A\u001b[A\n",
      "\n",
      "\u001b[A\u001b[A"
     ]
    },
    {
     "name": "stdout",
     "output_type": "stream",
     "text": [
      "Union\n",
      "10385854\n",
      "18183378\n",
      "21343618\n",
      "23075156\n",
      "24223948\n",
      "25055224\n",
      "25685101\n",
      "26183701\n",
      "26573916\n",
      "Intersection\n",
      "10385854\n",
      "2592476\n",
      "1541958\n",
      "1066625\n",
      "786289\n",
      "604191\n",
      "476880\n",
      "384910\n",
      "316877\n"
     ]
    },
    {
     "name": "stderr",
     "output_type": "stream",
     "text": [
      "100%|██████████| 45/45 [01:56<00:00,  2.58s/it]\n"
     ]
    }
   ],
   "source": [
    "folder=\"subsets/gc_25percent_layer6/\"\n",
    "df=intersection_cnt(folder)\n",
    "df.to_csv(\"graphcut_25percent_layer6.csv\")"
   ]
  },
  {
   "cell_type": "markdown",
   "metadata": {},
   "source": [
    "# Facility Location Layer 3 (No Warmstart)"
   ]
  },
  {
   "cell_type": "code",
   "execution_count": 14,
   "metadata": {},
   "outputs": [
    {
     "name": "stderr",
     "output_type": "stream",
     "text": []
    },
    {
     "name": "stdout",
     "output_type": "stream",
     "text": [
      "Union\n",
      "10385854\n",
      "18177994\n",
      "22870409\n",
      "25976851\n",
      "28190602\n",
      "29841357\n",
      "31135259\n",
      "32155981\n",
      "32989102\n",
      "Intersection\n",
      "10385854\n",
      "2597860\n",
      "1032596\n",
      "545628\n",
      "338829\n",
      "230278\n",
      "164780\n"
     ]
    },
    {
     "name": "stderr",
     "output_type": "stream",
     "text": [
      "100%|██████████| 45/45 [01:41<00:00,  2.26s/it]"
     ]
    },
    {
     "name": "stdout",
     "output_type": "stream",
     "text": [
      "123517\n",
      "94853\n"
     ]
    },
    {
     "name": "stderr",
     "output_type": "stream",
     "text": [
      "\n"
     ]
    }
   ],
   "source": [
    "folder=\"subsets/fl_25percent_layer3_bert_26_05_2022_06:17:56/\"\n",
    "df=intersection_cnt(folder)\n",
    "df.to_csv(\"fl_25percent_layer3.csv\")"
   ]
  },
  {
   "cell_type": "markdown",
   "metadata": {},
   "source": [
    "# Facility Location Layer 6 (No Warmstart)"
   ]
  },
  {
   "cell_type": "code",
   "execution_count": 18,
   "metadata": {},
   "outputs": [
    {
     "name": "stderr",
     "output_type": "stream",
     "text": [
      "\n",
      "\u001b[A\n",
      "\u001b[A\n",
      "\u001b[A\n",
      "\u001b[A\n",
      "\u001b[A\n",
      "\u001b[A\n",
      "\u001b[A\n",
      "\u001b[A\n",
      "\u001b[A\n",
      "\u001b[A\n",
      "\u001b[A\n",
      "\u001b[A\n",
      "\u001b[A\n",
      "\u001b[A\n",
      "\u001b[A\n",
      "\u001b[A\n",
      "\u001b[A\n",
      "\u001b[A\n",
      "\u001b[A\n",
      "\u001b[A\n",
      "\u001b[A\n",
      "\u001b[A\n",
      "\u001b[A\n",
      "\u001b[A\n",
      "\u001b[A\n",
      "\u001b[A\n",
      "\u001b[A\n",
      "\u001b[A\n",
      "\u001b[A\n",
      "\u001b[A\n",
      "\u001b[A\n",
      "\u001b[A\n",
      "\u001b[A\n",
      "\u001b[A\n",
      "\u001b[A\n",
      "\u001b[A\n",
      "\u001b[A\n",
      "\u001b[A\n",
      "\u001b[A\n",
      "\u001b[A\n",
      "\u001b[A\n",
      "\u001b[A\n",
      "\u001b[A\n",
      "\u001b[A\n",
      "\u001b[A\n",
      "\u001b[A\n",
      "\u001b[A\n",
      "\u001b[A\n",
      "\u001b[A\n",
      "\u001b[A\n",
      "\u001b[A\n",
      "\u001b[A\n",
      "\u001b[A\n",
      "\u001b[A\n",
      "\u001b[A\n",
      "\u001b[A\n",
      "\u001b[A\n",
      "\u001b[A\n",
      "\u001b[A\n",
      "\u001b[A\n",
      "\u001b[A\n",
      "\u001b[A\n",
      "\u001b[A\n",
      "\u001b[A\n",
      "\u001b[A"
     ]
    },
    {
     "name": "stdout",
     "output_type": "stream",
     "text": [
      "Union\n",
      "10390000\n",
      "17120914\n",
      "21718096\n",
      "24949856\n",
      "27300507\n",
      "29068610\n",
      "30446444\n",
      "31541533\n",
      "Intersection\n",
      "10390000\n",
      "3659086\n",
      "1716877\n",
      "986536\n",
      "642986\n",
      "450717\n",
      "331918\n",
      "252879\n"
     ]
    }
   ],
   "source": [
    "folder=\"subsets/fl_25percent_layer6/\"\n",
    "subsets=[]\n",
    "for i in range(25, 225, 25):\n",
    "    if i==0:\n",
    "        subsets.append(set(torch.load(folder+\"subset_indices_after_step_0.pt\").tolist()))\n",
    "    else:\n",
    "        subsets.append(set(torch.load(folder+f\"subset_indices_after_step_{i}000.pt\").tolist()))\n",
    "df=pd.DataFrame()\n",
    "df[\"subsets\"]=[\"{}K\".format(i) for i in range(25, 225, 25)]\n",
    "for i in range(25, 225, 25):\n",
    "    df[\"{}K\".format(i)]=[0 for j in range(25, 225, 25)]\n",
    "df.set_index(\"subsets\", inplace=True)\n",
    "pbar=tqdm(range(36))\n",
    "for i in range(25, 225, 25):\n",
    "    for j in range(25, 225, 25):\n",
    "        df[\"{}K\".format(i)][\"{}K\".format(j)]=len(subsets[(i//25)-1].intersection(subsets[(j//25)-1]))\n",
    "        pbar.update(1)\n",
    "df.to_csv(\"fl_25percent_layer6.csv\")\n",
    "print(\"Union\")\n",
    "s=subsets[0]\n",
    "print(len(subsets[0]))\n",
    "for i in range(1, len(subsets)):\n",
    "    s=s.union(subsets[i])\n",
    "    print(len(s))\n",
    "print(\"Intersection\")\n",
    "s=subsets[0]\n",
    "print(len(subsets[0]))\n",
    "for i in range(1, len(subsets)):\n",
    "    s=s.intersection(subsets[i])\n",
    "    print(len(s))"
   ]
  },
  {
   "cell_type": "markdown",
   "metadata": {},
   "source": [
    "# Facility Location Layer 9 (No Warmstart)"
   ]
  },
  {
   "cell_type": "code",
   "execution_count": 17,
   "metadata": {},
   "outputs": [
    {
     "name": "stderr",
     "output_type": "stream",
     "text": [
      "\n",
      "\u001b[A\n",
      "\u001b[A\n",
      "\u001b[A\n",
      "\u001b[A\n",
      "\u001b[A\n",
      "\u001b[A\n",
      "\u001b[A\n",
      "\u001b[A\n",
      "\u001b[A\n",
      "\u001b[A\n",
      "\u001b[A\n",
      "\u001b[A\n",
      "\u001b[A\n",
      "\u001b[A\n",
      "\u001b[A\n",
      "\u001b[A\n",
      "\u001b[A\n",
      "\u001b[A\n",
      "\u001b[A\n",
      "\u001b[A\n",
      "\u001b[A\n",
      "\u001b[A\n",
      "\u001b[A\n",
      "\u001b[A\n",
      "\u001b[A\n",
      "\u001b[A\n",
      "\u001b[A\n",
      "\u001b[A\n",
      "\u001b[A\n",
      "\u001b[A\n",
      "\u001b[A\n",
      "\u001b[A\n",
      "\u001b[A\n",
      "\u001b[A\n",
      "\u001b[A\n",
      "\u001b[A\n",
      "\u001b[A\n",
      "\u001b[A\n",
      "\u001b[A\n",
      "\u001b[A\n",
      "\u001b[A\n",
      "\u001b[A\n",
      "\u001b[A\n",
      "\u001b[A\n",
      "\u001b[A\n",
      "\u001b[A"
     ]
    },
    {
     "name": "stdout",
     "output_type": "stream",
     "text": [
      "Union\n",
      "10385854\n",
      "18179515\n",
      "23490753\n",
      "27234384\n",
      "29958610\n",
      "31989995\n",
      "33551224\n",
      "34755645\n",
      "35716426\n",
      "Intersection\n",
      "10385854\n",
      "2596339\n",
      "826062\n",
      "320709\n",
      "148289\n",
      "80103\n",
      "48220\n",
      "31562\n",
      "22067\n"
     ]
    },
    {
     "name": "stderr",
     "output_type": "stream",
     "text": [
      "100%|██████████| 45/45 [01:37<00:00,  2.16s/it]\n"
     ]
    }
   ],
   "source": [
    "folder=\"subsets/fl_25percent_layer9_bert_28_05_2022_04:44:02/\"\n",
    "df=intersection_cnt(folder)\n",
    "df.to_csv(\"fl_25percent_layer9.csv\")"
   ]
  },
  {
   "cell_type": "markdown",
   "metadata": {},
   "source": [
    "# Facility Location Layer 9 (With Warmstart)"
   ]
  },
  {
   "cell_type": "code",
   "execution_count": 10,
   "metadata": {},
   "outputs": [
    {
     "name": "stderr",
     "output_type": "stream",
     "text": [
      "100%|██████████| 45/45 [01:00<00:00,  1.35s/it]\n"
     ]
    },
    {
     "data": {
      "text/html": [
       "<div>\n",
       "<style scoped>\n",
       "    .dataframe tbody tr th:only-of-type {\n",
       "        vertical-align: middle;\n",
       "    }\n",
       "\n",
       "    .dataframe tbody tr th {\n",
       "        vertical-align: top;\n",
       "    }\n",
       "\n",
       "    .dataframe thead th {\n",
       "        text-align: right;\n",
       "    }\n",
       "</style>\n",
       "<table border=\"1\" class=\"dataframe\">\n",
       "  <thead>\n",
       "    <tr style=\"text-align: right;\">\n",
       "      <th></th>\n",
       "      <th>0K</th>\n",
       "      <th>25K</th>\n",
       "      <th>50K</th>\n",
       "      <th>75K</th>\n",
       "      <th>100K</th>\n",
       "      <th>125K</th>\n",
       "      <th>150K</th>\n",
       "      <th>175K</th>\n",
       "      <th>200K</th>\n",
       "    </tr>\n",
       "    <tr>\n",
       "      <th>subsets</th>\n",
       "      <th></th>\n",
       "      <th></th>\n",
       "      <th></th>\n",
       "      <th></th>\n",
       "      <th></th>\n",
       "      <th></th>\n",
       "      <th></th>\n",
       "      <th></th>\n",
       "      <th></th>\n",
       "    </tr>\n",
       "  </thead>\n",
       "  <tbody>\n",
       "    <tr>\n",
       "      <th>0K</th>\n",
       "      <td>10390000</td>\n",
       "      <td>0</td>\n",
       "      <td>0</td>\n",
       "      <td>0</td>\n",
       "      <td>0</td>\n",
       "      <td>0</td>\n",
       "      <td>0</td>\n",
       "      <td>0</td>\n",
       "      <td>0</td>\n",
       "    </tr>\n",
       "    <tr>\n",
       "      <th>25K</th>\n",
       "      <td>3389216</td>\n",
       "      <td>10390000</td>\n",
       "      <td>0</td>\n",
       "      <td>0</td>\n",
       "      <td>0</td>\n",
       "      <td>0</td>\n",
       "      <td>0</td>\n",
       "      <td>0</td>\n",
       "      <td>0</td>\n",
       "    </tr>\n",
       "    <tr>\n",
       "      <th>50K</th>\n",
       "      <td>3395593</td>\n",
       "      <td>3476906</td>\n",
       "      <td>10390000</td>\n",
       "      <td>0</td>\n",
       "      <td>0</td>\n",
       "      <td>0</td>\n",
       "      <td>0</td>\n",
       "      <td>0</td>\n",
       "      <td>0</td>\n",
       "    </tr>\n",
       "    <tr>\n",
       "      <th>75K</th>\n",
       "      <td>3397162</td>\n",
       "      <td>3476054</td>\n",
       "      <td>3494979</td>\n",
       "      <td>10390000</td>\n",
       "      <td>0</td>\n",
       "      <td>0</td>\n",
       "      <td>0</td>\n",
       "      <td>0</td>\n",
       "      <td>0</td>\n",
       "    </tr>\n",
       "    <tr>\n",
       "      <th>100K</th>\n",
       "      <td>3395021</td>\n",
       "      <td>3475155</td>\n",
       "      <td>3495194</td>\n",
       "      <td>3493634</td>\n",
       "      <td>10390000</td>\n",
       "      <td>0</td>\n",
       "      <td>0</td>\n",
       "      <td>0</td>\n",
       "      <td>0</td>\n",
       "    </tr>\n",
       "    <tr>\n",
       "      <th>125K</th>\n",
       "      <td>3397162</td>\n",
       "      <td>3475996</td>\n",
       "      <td>3496397</td>\n",
       "      <td>3494863</td>\n",
       "      <td>3494817</td>\n",
       "      <td>10390000</td>\n",
       "      <td>0</td>\n",
       "      <td>0</td>\n",
       "      <td>0</td>\n",
       "    </tr>\n",
       "    <tr>\n",
       "      <th>150K</th>\n",
       "      <td>3395835</td>\n",
       "      <td>3478228</td>\n",
       "      <td>3496200</td>\n",
       "      <td>3495732</td>\n",
       "      <td>3496007</td>\n",
       "      <td>3495133</td>\n",
       "      <td>10390000</td>\n",
       "      <td>0</td>\n",
       "      <td>0</td>\n",
       "    </tr>\n",
       "    <tr>\n",
       "      <th>175K</th>\n",
       "      <td>3395781</td>\n",
       "      <td>3478866</td>\n",
       "      <td>3493653</td>\n",
       "      <td>3492484</td>\n",
       "      <td>3493851</td>\n",
       "      <td>3496591</td>\n",
       "      <td>3495338</td>\n",
       "      <td>10390000</td>\n",
       "      <td>0</td>\n",
       "    </tr>\n",
       "    <tr>\n",
       "      <th>200K</th>\n",
       "      <td>3398343</td>\n",
       "      <td>3478149</td>\n",
       "      <td>3495074</td>\n",
       "      <td>3494185</td>\n",
       "      <td>3493536</td>\n",
       "      <td>3497500</td>\n",
       "      <td>3493596</td>\n",
       "      <td>3495591</td>\n",
       "      <td>10390000</td>\n",
       "    </tr>\n",
       "  </tbody>\n",
       "</table>\n",
       "</div>"
      ],
      "text/plain": [
       "               0K       25K       50K       75K      100K      125K      150K  \\\n",
       "subsets                                                                         \n",
       "0K       10390000         0         0         0         0         0         0   \n",
       "25K       3389216  10390000         0         0         0         0         0   \n",
       "50K       3395593   3476906  10390000         0         0         0         0   \n",
       "75K       3397162   3476054   3494979  10390000         0         0         0   \n",
       "100K      3395021   3475155   3495194   3493634  10390000         0         0   \n",
       "125K      3397162   3475996   3496397   3494863   3494817  10390000         0   \n",
       "150K      3395835   3478228   3496200   3495732   3496007   3495133  10390000   \n",
       "175K      3395781   3478866   3493653   3492484   3493851   3496591   3495338   \n",
       "200K      3398343   3478149   3495074   3494185   3493536   3497500   3493596   \n",
       "\n",
       "             175K      200K  \n",
       "subsets                      \n",
       "0K              0         0  \n",
       "25K             0         0  \n",
       "50K             0         0  \n",
       "75K             0         0  \n",
       "100K            0         0  \n",
       "125K            0         0  \n",
       "150K            0         0  \n",
       "175K     10390000         0  \n",
       "200K      3495591  10390000  "
      ]
     },
     "execution_count": 10,
     "metadata": {},
     "output_type": "execute_result"
    }
   ],
   "source": [
    "folder=\"subsets/fl_25percent_layer9_warmstart_bert_30_05_2022_15:43:16/\"\n",
    "intersection_cnt(folder)"
   ]
  },
  {
   "cell_type": "code",
   "execution_count": 12,
   "metadata": {},
   "outputs": [
    {
     "name": "stderr",
     "output_type": "stream",
     "text": [
      "Matplotlib is building the font cache; this may take a moment.\n"
     ]
    }
   ],
   "source": [
    "import matplotlib.pyplot as plt"
   ]
  },
  {
   "cell_type": "code",
   "execution_count": 17,
   "metadata": {},
   "outputs": [],
   "source": [
    "step=[]\n",
    "perplexity=[]\n",
    "with open(\"logs/fl_25percent_layer9_bert_logs_28_05_2022_04:44:02/train_logs.log\", \"r\") as f:\n",
    "    for line in f:\n",
    "        if \"perplexity\" in line:\n",
    "            lst=line.split(\" \")\n",
    "            step.append(int(lst[-3].rstrip(\":\")))\n",
    "            perplexity.append(float(lst[-1]))"
   ]
  },
  {
   "cell_type": "code",
   "execution_count": 18,
   "metadata": {},
   "outputs": [],
   "source": [
    "step_warmstart=[]\n",
    "perplexity_warmstart=[]\n",
    "with open(\"logs/fl_25percent_layer9_warmstart_bert_logs_30_05_2022_15:43:16/train_logs.log\", \"r\") as f:\n",
    "    for line in f:\n",
    "        if \"perplexity\" in line:\n",
    "            lst=line.split(\" \")\n",
    "            step_warmstart.append(int(lst[-3].rstrip(\":\")))\n",
    "            perplexity_warmstart.append(float(lst[-1]))"
   ]
  },
  {
   "cell_type": "code",
   "execution_count": 20,
   "metadata": {},
   "outputs": [
    {
     "data": {
      "text/plain": [
       "<matplotlib.legend.Legend at 0x7f079243e750>"
      ]
     },
     "execution_count": 20,
     "metadata": {},
     "output_type": "execute_result"
    },
    {
     "data": {
      "image/png": "[encoded data removed]",
      "text/plain": [
       "<Figure size 432x288 with 1 Axes>"
      ]
     },
     "metadata": {
      "needs_background": "light"
     },
     "output_type": "display_data"
    }
   ],
   "source": [
    "plt.plot(step, perplexity)\n",
    "plt.plot(step_warmstart, perplexity_warmstart)\n",
    "plt.legend([\"no warmstart\", \"warmstart\"])"
   ]
  },
  {
   "cell_type": "code",
   "execution_count": null,
   "metadata": {},
   "outputs": [],
   "source": []
  }
 ],
 "metadata": {
  "interpreter": {
   "hash": "13ad8c38ecb90713c33d78b40c599973b0f7cdda47714d00efe1ed11a1ec8108"
  },
  "kernelspec": {
   "display_name": "Python 3.7.12 ('ingenious-env': venv)",
   "language": "python",
   "name": "python3"
  },
  "language_info": {
   "codemirror_mode": {
    "name": "ipython",
    "version": 3
   },
   "file_extension": ".py",
   "mimetype": "text/x-python",
   "name": "python",
   "nbconvert_exporter": "python",
   "pygments_lexer": "ipython3",
   "version": "3.7.12"
  },
  "orig_nbformat": 4
 },
 "nbformat": 4,
 "nbformat_minor": 2
}
